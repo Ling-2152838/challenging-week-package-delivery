{
 "cells": [
  {
   "metadata": {},
   "cell_type": "markdown",
   "source": "# 将骑手轨迹中的基站序号对应上点",
   "id": "f4a55fbe7faaa69c"
  },
  {
   "metadata": {
    "collapsed": true,
    "ExecuteTime": {
     "end_time": "2025-09-13T07:17:25.528863Z",
     "start_time": "2025-09-13T07:17:25.252089Z"
    }
   },
   "cell_type": "code",
   "source": [
    "import pandas as pd\n",
    "# 读取两个表\n",
    "df_traj = pd.read_csv(\"外卖员每小时对应基站_基站编码.csv\")\n",
    "df_bs = pd.read_csv(\"新业态基站_编码(1).csv\")"
   ],
   "id": "initial_id",
   "outputs": [
    {
     "name": "stdout",
     "output_type": "stream",
     "text": [
      "        cgi_id        lon_gz        lat_gz\n",
      "0       110082  29557.547815  64409.446807\n",
      "1        84781  74146.816341  28973.560021\n",
      "2       119413  48669.372120  28968.959635\n",
      "3        80588  37641.533104  29347.618910\n",
      "4        89256  33771.694469  35405.831870\n",
      "...        ...           ...           ...\n",
      "119566   90293  55895.487750  56283.125792\n",
      "119567   64757  45514.156231  25227.404303\n",
      "119568   72060  48016.380970  25768.189958\n",
      "119569   19844  38500.781976  27613.202501\n",
      "119570   18951  35231.333957  25885.142344\n",
      "\n",
      "[119571 rows x 3 columns]\n"
     ]
    },
    {
     "name": "stderr",
     "output_type": "stream",
     "text": [
      "/var/folders/fm/w8wfgmlj0c51rhq3ddxsbsch0000gn/T/ipykernel_42062/1934438792.py:4: DtypeWarning: Columns (1,2,3,4,5,7,8,10,11,13,14,15,16,19,20,22,23,24) have mixed types. Specify dtype option on import or set low_memory=False.\n",
      "  df_traj = pd.read_csv(\"外卖员每小时对应基站_基站编码.csv\")\n"
     ]
    }
   ],
   "execution_count": 25
  },
  {
   "metadata": {
    "ExecuteTime": {
     "end_time": "2025-09-13T07:17:29.267248Z",
     "start_time": "2025-09-13T07:17:25.587893Z"
    }
   },
   "cell_type": "code",
   "source": [
    "# 宽表转成长表\n",
    "df_long = df_traj.melt(id_vars=[\"UID\"],\n",
    "                       var_name=\"hour\",\n",
    "                       value_name=\"cgi_id\")\n",
    "\n",
    "# 提取小时编号\n",
    "df_long[\"hour\"] = df_long[\"hour\"].str.replace(\"cgi_\", \"\").astype(int)\n",
    "\n",
    "# 修复关键点：统一 cgi_id 格式\n",
    "df_long[\"cgi_id\"] = pd.to_numeric(df_long[\"cgi_id\"], errors=\"coerce\").dropna().astype(\"Int64\").astype(str)\n",
    "df_bs[\"cgi_id\"]   = df_bs[\"cgi_id\"].astype(str)\n",
    "\n",
    "# 合并基站坐标\n",
    "df_long = df_long.merge(df_bs, on=\"cgi_id\", how=\"left\")\n"
   ],
   "id": "2e4ab7723be65715",
   "outputs": [],
   "execution_count": 26
  },
  {
   "metadata": {
    "ExecuteTime": {
     "end_time": "2025-09-13T07:21:07.142285Z",
     "start_time": "2025-09-13T07:21:04.402670Z"
    }
   },
   "cell_type": "code",
   "source": [
    "# 按快递员编号 UID 排序\n",
    "df_long = df_long.sort_values(by=[\"UID\", \"hour\"]).reset_index(drop=True)\n",
    "# 保存结果\n",
    "df_long.to_csv(\"外卖员轨迹点表.csv\", index=False)"
   ],
   "id": "dff96f0eb20c62bb",
   "outputs": [],
   "execution_count": 27
  }
 ],
 "metadata": {
  "kernelspec": {
   "display_name": "Python 3",
   "language": "python",
   "name": "python3"
  },
  "language_info": {
   "codemirror_mode": {
    "name": "ipython",
    "version": 2
   },
   "file_extension": ".py",
   "mimetype": "text/x-python",
   "name": "python",
   "nbconvert_exporter": "python",
   "pygments_lexer": "ipython2",
   "version": "2.7.6"
  }
 },
 "nbformat": 4,
 "nbformat_minor": 5
}
