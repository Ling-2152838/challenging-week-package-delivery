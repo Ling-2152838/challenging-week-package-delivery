{
 "cells": [
  {
   "cell_type": "code",
   "execution_count": null,
   "id": "0869dc60",
   "metadata": {},
   "outputs": [],
   "source": [
    "import math\n",
    "\n",
    "def quadkey_to_tile(quadkey: str):\n",
    "    x = y = 0\n",
    "    level = len(quadkey)\n",
    "    for i in range(level):\n",
    "        bit = level - i\n",
    "        mask = 1 << (bit - 1)\n",
    "        q = int(quadkey[i])\n",
    "        if q & 1: x |= mask\n",
    "        if q & 2: y |= mask\n",
    "    return x, y, level\n",
    "\n",
    "def tile_to_lonlat_center(x, y, z):\n",
    "    n = 2 ** z\n",
    "    lon = x / n * 360.0 - 180.0\n",
    "    lat_rad = math.atan(math.sinh(math.pi * (1 - 2 * y / n)))\n",
    "    lat = lat_rad * 180.0 / math.pi\n",
    "    return lon, lat\n",
    "\n",
    "def quadkey_to_lonlat_center(qk: str):\n",
    "    x, y, z = quadkey_to_tile(qk)\n",
    "    return tile_to_lonlat_center(x + 0.5, y + 0.5, z)\n",
    "\n",
    "# 示例\n",
    "print(quadkey_to_lonlat_center(\"1202102330\"))"
   ]
  }
 ],
 "metadata": {
  "kernelspec": {
   "display_name": "base",
   "language": "python",
   "name": "python3"
  },
  "language_info": {
   "name": "python",
   "version": "3.12.7"
  }
 },
 "nbformat": 4,
 "nbformat_minor": 5
}
